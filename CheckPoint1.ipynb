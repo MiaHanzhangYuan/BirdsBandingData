{
 "cells": [
  {
   "cell_type": "markdown",
   "id": "457494b4-1c0f-4134-9d44-c9b26ef0c17e",
   "metadata": {},
   "source": [
    "- Introduction:\n",
    "  \n",
    "    The Bird Banding dataset is a comprehensive collection of data that encompasses a vast amount of information about birds. This type of dataset provides detailed information, including not only the observation locations but also the birds' status, such as their age, sex, and breeding condition. Such datasets offer a wealth of information for researching birds' migration patterns, longevity, mortality, population dynamics, territoriality, feeding behavior, and much more. The objective of this project is to utilize bird banding dataset provided by the North American Bird Banding Program to create a public dashboard that will cater to both the general public and researchers in related fields. This dashboard will allow users to explore and analyze the data in an interactive manner, providing valuable insights into the lives of birds and helping to inform conservation efforts."
   ]
  },
  {
   "cell_type": "markdown",
   "id": "605981d2-f707-4551-a459-7f83ef742d0b",
   "metadata": {},
   "source": [
    "- Background:\n",
    "  \n",
    "    Bird banding has been a popular research method for over a century, which involves attaching a small, uniquely numbered metal or plastic band to a bird's leg. This band allows researchers to track the bird's movements, calculate their survival rates or gather other important research data points. This method has been used to study a wide range of bird species, from tiny songbirds to large raptors.\n",
    "  \n",
    "    Public datasets such as the BBL database and the EURING database have made it easier for researchers to access bird banding data from around the world. The eBird database is a public dataset maintained by Cornell Lab of Ornithology and National Audubon Society, which contains millions of bird observations worldwide. These databases contain information on millions of banded birds and can be used to answer a wide range of research questions. For example, researchers can use these databases to study changes in bird migration patterns over time, or to investigate the impact of habitat loss on bird populations. The crowdsourced approach allows anyone to contribute data to the project, making it a valuable resource for both professional and amateur bird researchers.\n",
    "\n",
    "    There have been many published articles on bird banding and researchers have been using these data for various research purposes. For example, a study by Yoon et al. (2012) used data from bird banding to investigate the effects of climate change on bird populations in California; a study by Sauer et al. (2017) used bird banding data to estimate population trends of North American birds. Another study by Jiao et al. (2016) used Chinese-Russian bird banding data along with climate data to assessed correlates of long-term passerine numbers with local and winter area climates over space and time; La Sorte et al. (2018) used eBird dataset to study the effects of climate change on bird migration patterns in North America.\n",
    "\n",
    "    Bird banding and the associated research have provided valuable insights into the ecology and behavior of birds. These insights can help inform conservation efforts and aid in the protection of bird populations around the world."
   ]
  },
  {
   "cell_type": "markdown",
   "id": "4807334e-5b13-4312-be5f-0c053b7e101a",
   "metadata": {},
   "source": [
    "- Data:\n",
    "\n",
    "    The North American Bird Banding Program is a remarkable initiative overseen by the U.S. Geological Survey Bird Banding Laboratory (BBL) in the United States and the Bird Banding Office (BBO) in Canada. The program involves catching wild birds and placing a metal leg band with a unique 9-digit number on them, along with other markers and recorded attributes. With over 76 million bird banding records and 5 million encounter records, encompassing over 1,000 species, the program is a treasure trove of information for ornithologists and researchers.\n",
    "\n",
    "    The BBL curates the data on a daily basis, and it is available upon request. To ensure data quality, automatic validation rules and additional validation by BBL and BBO staff are in place. The program uses specific codes to represent various aspects of the data, such as bird status, coordinate precision, and age at encounter. It is essential to understand the terminology used by the BBL, such as encounter, recapture, and recovery.\n",
    "\n",
    "    There are 57 data files available, ranging from NABBP_2022_grp_01 to NABBP_2022_grp_57. These files contain banding, encounter, and recapture data for bird species based on taxonomic groups, among which Mallard (1320-MALL, Anas platyrhynchos) has its separate file (group 03) with 1.7 million records."
   ]
  },
  {
   "cell_type": "markdown",
   "id": "0dd35f9c-e970-4ee7-9a56-cbcd8c722e86",
   "metadata": {},
   "source": [
    "- Potential analyses:\n",
    "\n",
    "  There are several potential directions for analyzing the bird banding data. One approach is to conduct location-based analysis, where the data is summarized based on the specific locations where people observed the birds and the corresponding time of year. This analysis can provide valuable insights into the distribution patterns and seasonal presence of different bird species.\n",
    "\n",
    "    Another line of analysis involves studying the data based on species. By examining the migration patterns of various bird species, we can identify the specific seasons when they travel to different locations. This analysis can help us understand the factors influencing their movements and the ecological significance of these migrations.\n",
    "\n",
    "    Due to the extensive time span covered by the dataset (over 60 years), we have the opportunity to gain insights into the long-term trends in bird populations. By investigating whether environmental changes have affected their lives and determining if any species are endangered, we can better understand the impact of human activities on bird habitats.\n",
    "\n",
    "    It is also possible to track the migration patterns of some individual birds within the dataset, allowing us to identify their specific travel routes. This can provide us with a good examples of birds'lifespans, which I think would be interesting to see."
   ]
  },
  {
   "cell_type": "markdown",
   "id": "73999bd2-891e-48b9-9afc-449ef068a0d6",
   "metadata": {},
   "source": [
    "- Challenges:\n",
    "\n",
    "  This project might be faced with some potential challenges. Firstly, the size of the dataset is big, with over 76 million bird banding records and 5 million encounter records spanning over 1,000 species. This necessitates a substantial amount of work of preprocessing. Otherwise I can use part of the dataset, for example, this project can be focused on some certain species.\n",
    "\n",
    "  Moreover, missing values and format errors may pose additional obstacles. Therefore, extensive data cleaning is necessary before undertaking any analysis. Additionally, tracking individual birds can be a formidable task. From a technical standpoint, the computations required are quite demanding, given the vast number of items that must be searched across the entire dataset. From a data perspective, most items may only appear once due to real-world constraints."
   ]
  },
  {
   "cell_type": "markdown",
   "id": "05608ac5-3ad6-48b9-b012-1237ed958b10",
   "metadata": {},
   "source": [
    "- Reference:\n",
    "  \n",
    "    [1]Yoon, Jongmin & Sillett, T. & Morrison, Scott & Ghalambor, Cameron. (2012). Breeding density, not life history, predicts interpopulation differences in territorial aggression in a passerine bird. Animal Behaviour. 84. 515-521. 10.1016/j.anbehav.2012.05.024. \n",
    "\n",
    "    [2]Sauer, J. R., Pardieck, K. L., Ziolkowski, D. J., Smith, A. C., Hudson, M.-A. R., Rodriguez, V., Berlanga, H., Niven, D. K., & Link, W. A. (2017). The first 50 years of the North American Breeding Bird Survey. The Condor, 119(3), 576–593. https://www.jstor.org/stable/90014240.\n",
    "\n",
    "    [3]Jiao, Shengwu & Huettmann, Falk & Guo, Yumin & Li, Xianda & Ouyang, Yanlan. (2016). Advanced long-term bird banding and climate data mining in spring confirm passerine population declines for the Northeast Chinese-Russian flyway. Global and Planetary Change. 144. 10.1016/j.gloplacha.2016.06.015. \n",
    "  \n",
    "    [4]La Sorte, F.A., Fink, D. and Johnston, A. (2018), Seasonal associations with novel climates for North American migratory bird populations. Ecol Lett, 21: 845-856. https://doi.org/10.1111/ele.12951.\n",
    "\n",
    "    [5]Celis-Murillo, A., Malorodova, M., and Nakash, E., 2022, North American Bird Banding Program Dataset 1960-2022 retrieved 2022-07-14: U.S. Geological Survey data release, https://doi.org/10.5066/P9BSM38F.05.024."
   ]
  },
  {
   "cell_type": "code",
   "execution_count": null,
   "id": "1f67aa03-0a40-4684-bd4d-1e143a585fed",
   "metadata": {},
   "outputs": [],
   "source": []
  }
 ],
 "metadata": {
  "kernelspec": {
   "display_name": "Python 3 (ipykernel)",
   "language": "python",
   "name": "python3"
  },
  "language_info": {
   "codemirror_mode": {
    "name": "ipython",
    "version": 3
   },
   "file_extension": ".py",
   "mimetype": "text/x-python",
   "name": "python",
   "nbconvert_exporter": "python",
   "pygments_lexer": "ipython3",
   "version": "3.11.4"
  }
 },
 "nbformat": 4,
 "nbformat_minor": 5
}
