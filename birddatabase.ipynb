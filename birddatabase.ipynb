{
 "cells": [
  {
   "cell_type": "code",
   "execution_count": 2,
   "id": "5891da60-0170-4881-af2a-bac18c33b88d",
   "metadata": {},
   "outputs": [],
   "source": [
    "import numpy as np\n",
    "import pandas as pd\n",
    "import os\n",
    "import glob\n",
    "POSTGRES_PASSWORD = os.getenv('POSTGRES_PASSWORD')\n",
    "import psycopg2\n",
    "from sqlalchemy import create_engine"
   ]
  },
  {
   "cell_type": "markdown",
   "id": "7046a809-9f2d-4266-8b2a-322e9b58e9be",
   "metadata": {},
   "source": [
    "# Read in Datasets"
   ]
  },
  {
   "cell_type": "code",
   "execution_count": 3,
   "id": "c59adb65-cb74-4d0a-a51a-a403d98eda67",
   "metadata": {},
   "outputs": [],
   "source": [
    "folder_path = \"data/NABBP_Lookups_2022\" \n",
    "for filename in os.listdir(folder_path):\n",
    "    if filename.endswith(\".csv\"):\n",
    "        file_path = os.path.join(folder_path, filename)\n",
    "        df = pd.read_csv(file_path)\n",
    "        # drop the first column of every csv file\n",
    "        if len(df.columns) > 0:\n",
    "            df = df.iloc[:, 1:]\n",
    "        # Convert column names to lowercase for sql\n",
    "        df.columns = df.columns.str.lower()\n",
    "        df_name = os.path.splitext(filename)[0]\n",
    "        globals()[df_name] = df"
   ]
  },
  {
   "cell_type": "markdown",
   "id": "6cfb9e27-23f5-4c22-817d-b153ec4ea52a",
   "metadata": {},
   "source": [
    "# abbreviation transform"
   ]
  },
  {
   "cell_type": "code",
   "execution_count": 4,
   "id": "ba704f8f-c29f-4ed7-b678-3698f85fd7d5",
   "metadata": {},
   "outputs": [],
   "source": [
    "def abbrev_to_state(abbrev):\n",
    "    state_dict = {\n",
    "        'AL': 'Alabama', 'AK': 'Alaska', 'AZ': 'Arizona', 'AR': 'Arkansas', 'CA': 'California', \n",
    "        'CO': 'Colorado', 'CT': 'Connecticut', 'DE': 'Delaware', 'FL': 'Florida', 'GA': 'Georgia', \n",
    "        'HI': 'Hawaii', 'ID': 'Idaho', 'IL': 'Illinois', 'IN': 'Indiana', 'IA': 'Iowa', \n",
    "        'KS': 'Kansas', 'KY': 'Kentucky', 'LA': 'Louisiana', 'ME': 'Maine', 'MD': 'Maryland', \n",
    "        'MA': 'Massachusetts', 'MI': 'Michigan', 'MN': 'Minnesota', 'MS': 'Mississippi', 'MO': 'Missouri', \n",
    "        'MT': 'Montana', 'NE': 'Nebraska', 'NV': 'Nevada', 'NH': 'New Hampshire', 'NJ': 'New Jersey', \n",
    "        'NM': 'New Mexico', 'NY': 'New York', 'NC': 'North Carolina', 'ND': 'North Dakota', 'OH': 'Ohio', \n",
    "        'OK': 'Oklahoma', 'OR': 'Oregon', 'PA': 'Pennsylvania', 'RI': 'Rhode Island', 'SC': 'South Carolina', \n",
    "        'SD': 'South Dakota', 'TN': 'Tennessee', 'TX': 'Texas', 'UT': 'Utah', 'VT': 'Vermont', \n",
    "        'VA': 'Virginia', 'WA': 'Washington', 'WV': 'West Virginia', 'WI': 'Wisconsin', 'WY': 'Wyoming'\n",
    "    }\n",
    "    \n",
    "    return state_dict.get(abbrev.upper(), \"Invalid abbreviation\")"
   ]
  },
  {
   "cell_type": "code",
   "execution_count": 38,
   "id": "411859e9-bdeb-4388-883a-2907903f63a2",
   "metadata": {},
   "outputs": [
    {
     "name": "stderr",
     "output_type": "stream",
     "text": [
      "/tmp/ipykernel_125/888025925.py:5: DtypeWarning: Columns (2,13,20) have mixed types. Specify dtype option on import or set low_memory=False.\n",
      "  df = pd.read_csv(file_path)\n"
     ]
    }
   ],
   "source": [
    "folder_path = 'data/band/'\n",
    "csv_files = glob.glob(folder_path + 'NABBP_2022_grp_09.csv')\n",
    "for file_path in csv_files:\n",
    "    num = int(file_path.split('_')[-1].split('.')[0])\n",
    "    df = pd.read_csv(file_path)\n",
    "    # Convert column names to lowercase\n",
    "    df.columns = df.columns.str.lower()\n",
    "    # Select only the columns we need\n",
    "    df = df[['band', 'event_year', 'event_month','event_day', 'iso_country', 'iso_subdivision', 'lat_dd', 'lon_dd', 'age_code', 'sex_code', 'species_id']]\n",
    "    df = df[df['iso_country'] == 'US']\n",
    "    df = df.drop('iso_country', axis=1)\n",
    "    df['iso_subdivision'] = df['iso_subdivision'].apply(lambda x: x[3:])\n",
    "    df['iso_subdivision'] = df['iso_subdivision'].apply(lambda x: abbrev_to_state(x))\n",
    "    df_name = f'df_{num}'\n",
    "    globals()[df_name] = df # only choose US data"
   ]
  },
  {
   "cell_type": "code",
   "execution_count": 18,
   "id": "1ab7bb2a-46f6-4204-9fa6-d629d4e3eb9f",
   "metadata": {},
   "outputs": [],
   "source": [
    "#df = pd.read_csv('df_temp.csv')\n",
    "#df_temp = df_1\n",
    "#df_temp = df_1"
   ]
  },
  {
   "cell_type": "code",
   "execution_count": 41,
   "id": "86f47d82-7672-40db-a57d-276a6b3e62c3",
   "metadata": {},
   "outputs": [
    {
     "data": {
      "text/plain": [
       "array([1690, 1691, 1695, 1698, 1699, 1700, 1703, 1710, 1719, 1760, 1770,\n",
       "       1780, 1440, 1400, 1350, 1360, 1370, 1392, 1410, 1420, 1430, 1321,\n",
       "       1322, 1323, 1325, 1326, 1327, 1330, 1331, 1337, 1340, 1380, 1390,\n",
       "       1401, 1431])"
      ]
     },
     "execution_count": 41,
     "metadata": {},
     "output_type": "execute_result"
    }
   ],
   "source": [
    "df_temp['species_id'].unique()"
   ]
  },
  {
   "cell_type": "code",
   "execution_count": 39,
   "id": "c6d7240b-3125-4af6-9b1b-9936c8454aeb",
   "metadata": {},
   "outputs": [],
   "source": [
    "df_temp = pd.concat([df_temp, df], ignore_index=True)"
   ]
  },
  {
   "cell_type": "code",
   "execution_count": 40,
   "id": "d23b5981-d087-4b32-a5b0-1a6be96d3c94",
   "metadata": {},
   "outputs": [
    {
     "data": {
      "text/plain": [
       "5810276"
      ]
     },
     "execution_count": 40,
     "metadata": {},
     "output_type": "execute_result"
    }
   ],
   "source": [
    "len(df_temp)"
   ]
  },
  {
   "cell_type": "code",
   "execution_count": 9,
   "id": "4d7d0739-9b1b-458d-8f5f-d514a96da271",
   "metadata": {},
   "outputs": [],
   "source": [
    "#df_temp.to_csv('df_temp.csv', index=False)"
   ]
  },
  {
   "cell_type": "code",
   "execution_count": 43,
   "id": "0b0497d1-42b9-4c68-ba92-3530ed745d2d",
   "metadata": {},
   "outputs": [],
   "source": [
    "del df_temp"
   ]
  },
  {
   "cell_type": "code",
   "execution_count": 42,
   "id": "94fb6349-b7d2-4e7d-8ec4-8e11c9350ba1",
   "metadata": {},
   "outputs": [],
   "source": [
    "df = df_temp"
   ]
  },
  {
   "cell_type": "code",
   "execution_count": 44,
   "id": "1015f693-db06-4304-8857-cc549e8c9385",
   "metadata": {},
   "outputs": [],
   "source": [
    "species = species.drop('count(1)', axis=1)"
   ]
  },
  {
   "cell_type": "code",
   "execution_count": 57,
   "id": "9e44e96a-c2bf-4e4a-a355-6436e663fec7",
   "metadata": {},
   "outputs": [
    {
     "data": {
      "text/plain": [
       "band                object\n",
       "event_year           int64\n",
       "event_month          int64\n",
       "event_day            int64\n",
       "iso_subdivision     object\n",
       "lat_dd             float64\n",
       "lon_dd             float64\n",
       "age_code           float64\n",
       "sex_code           float64\n",
       "species_id           int64\n",
       "eventcode           object\n",
       "dtype: object"
      ]
     },
     "execution_count": 57,
     "metadata": {},
     "output_type": "execute_result"
    }
   ],
   "source": [
    "df.dtypes"
   ]
  },
  {
   "cell_type": "code",
   "execution_count": 55,
   "id": "f32cedc4-4663-46f8-8bac-086a1b6ebbad",
   "metadata": {},
   "outputs": [],
   "source": [
    "df['eventcode'] = df['event_month'].astype(str) + '/' + df['event_day'].astype(str)"
   ]
  },
  {
   "cell_type": "code",
   "execution_count": 6,
   "id": "c92b1518-0b06-4bab-a4b3-6018f15f5198",
   "metadata": {},
   "outputs": [
    {
     "data": {
      "text/plain": [
       "species_id        int64\n",
       "alpha_code       object\n",
       "species_name     object\n",
       "sci_name         object\n",
       "recomendsize     object\n",
       "allowablesize    object\n",
       "endangered       object\n",
       "raptor           object\n",
       "gamebird         object\n",
       "bbl_grp          object\n",
       "dtype: object"
      ]
     },
     "execution_count": 6,
     "metadata": {},
     "output_type": "execute_result"
    }
   ],
   "source": [
    "species.dtypes"
   ]
  },
  {
   "cell_type": "code",
   "execution_count": 7,
   "id": "d7ca759a-eeac-48a1-952a-949a89976d12",
   "metadata": {},
   "outputs": [
    {
     "data": {
      "text/plain": [
       "sex_code            int64\n",
       "sex_description    object\n",
       "dtype: object"
      ]
     },
     "execution_count": 7,
     "metadata": {},
     "output_type": "execute_result"
    }
   ],
   "source": [
    "sex.dtypes"
   ]
  },
  {
   "cell_type": "code",
   "execution_count": 8,
   "id": "f518f0e0-144f-4268-af10-834c5ee33ee1",
   "metadata": {},
   "outputs": [
    {
     "data": {
      "text/plain": [
       "age_code             int64\n",
       "age_alpha_code      object\n",
       "age_description     object\n",
       "age_explain_text    object\n",
       "dtype: object"
      ]
     },
     "execution_count": 8,
     "metadata": {},
     "output_type": "execute_result"
    }
   ],
   "source": [
    "age.dtypes"
   ]
  },
  {
   "cell_type": "code",
   "execution_count": 52,
   "id": "6e441018-9181-4130-9217-0f9e0e13c654",
   "metadata": {},
   "outputs": [],
   "source": [
    "inexact_dates.rename(columns={'event_month/event_day': 'eventcode'}, inplace=True)"
   ]
  },
  {
   "cell_type": "code",
   "execution_count": 53,
   "id": "f52fb85a-5dd4-48b4-84b0-94b6042b665e",
   "metadata": {},
   "outputs": [
    {
     "data": {
      "text/plain": [
       "eventcode                   object\n",
       "inexact_date_description    object\n",
       "dtype: object"
      ]
     },
     "execution_count": 53,
     "metadata": {},
     "output_type": "execute_result"
    }
   ],
   "source": [
    "inexact_dates.dtypes"
   ]
  },
  {
   "cell_type": "markdown",
   "id": "2dd4d0e8-eeba-4d32-b5ad-573e56f6dad1",
   "metadata": {},
   "source": [
    "# Create a database"
   ]
  },
  {
   "cell_type": "code",
   "execution_count": 46,
   "id": "196f32c6-d7ca-45d3-b2ea-7a73b85e8de4",
   "metadata": {},
   "outputs": [],
   "source": [
    "dbserver = psycopg2.connect(\n",
    "    host = 'postgres',\n",
    "    user = 'postgres',\n",
    "    password = POSTGRES_PASSWORD,\n",
    "    port = 5432\n",
    ")\n",
    "dbserver.autocommit = True"
   ]
  },
  {
   "cell_type": "code",
   "execution_count": 47,
   "id": "9e882552-e5ab-412d-9d49-e1c030706bc0",
   "metadata": {},
   "outputs": [],
   "source": [
    "cursor = dbserver.cursor()"
   ]
  },
  {
   "cell_type": "code",
   "execution_count": 48,
   "id": "f5e9a582-c31d-450f-80f6-87b0084f40a7",
   "metadata": {},
   "outputs": [],
   "source": [
    "try:\n",
    "    cursor.execute('CREATE DATABASE bird')\n",
    "except:\n",
    "    cursor.execute('DROP DATABASE bird')\n",
    "    cursor.execute('CREATE DATABASE bird')"
   ]
  },
  {
   "cell_type": "code",
   "execution_count": 49,
   "id": "2f7174ac-9675-42e4-b1ba-f52c84f609ca",
   "metadata": {},
   "outputs": [],
   "source": [
    "engine = create_engine('postgresql+psycopg2://{user}:{password}@{host}:{port}/{db}'.format(\n",
    "    user = 'postgres',\n",
    "    password = POSTGRES_PASSWORD,\n",
    "    host = 'postgres',\n",
    "    port = 5432,\n",
    "    db = 'bird'\n",
    "))"
   ]
  },
  {
   "cell_type": "code",
   "execution_count": 56,
   "id": "890f08bf-7e2e-43d9-b8ea-97cf71bd84d6",
   "metadata": {},
   "outputs": [
    {
     "data": {
      "text/plain": [
       "2905276"
      ]
     },
     "execution_count": 56,
     "metadata": {},
     "output_type": "execute_result"
    }
   ],
   "source": [
    "df.to_sql('bird', con=engine, index=False, chunksize=2000, if_exists='replace')"
   ]
  },
  {
   "cell_type": "code",
   "execution_count": 54,
   "id": "116624a1-3649-42c5-827b-3fae81e7d586",
   "metadata": {},
   "outputs": [
    {
     "data": {
      "text/plain": [
       "61"
      ]
     },
     "execution_count": 54,
     "metadata": {},
     "output_type": "execute_result"
    }
   ],
   "source": [
    "species.to_sql('species', con=engine, index=False, chunksize=1000, if_exists='replace')\n",
    "sex.to_sql('sex', con=engine, index=False, chunksize=1000, if_exists='replace')\n",
    "age.to_sql('age', con=engine, index=False, chunksize=1000, if_exists='replace')\n",
    "inexact_dates.to_sql('inexact_dates', con=engine, index=False, chunksize=1000, if_exists='replace')"
   ]
  },
  {
   "cell_type": "code",
   "execution_count": null,
   "id": "3d72c949-3cb7-467e-a7cf-3e9948c25bbe",
   "metadata": {},
   "outputs": [],
   "source": []
  }
 ],
 "metadata": {
  "kernelspec": {
   "display_name": "Python 3 (ipykernel)",
   "language": "python",
   "name": "python3"
  },
  "language_info": {
   "codemirror_mode": {
    "name": "ipython",
    "version": 3
   },
   "file_extension": ".py",
   "mimetype": "text/x-python",
   "name": "python",
   "nbconvert_exporter": "python",
   "pygments_lexer": "ipython3",
   "version": "3.11.4"
  }
 },
 "nbformat": 4,
 "nbformat_minor": 5
}
